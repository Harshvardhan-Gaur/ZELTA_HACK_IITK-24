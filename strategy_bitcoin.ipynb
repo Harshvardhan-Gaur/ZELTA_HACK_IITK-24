{
 "cells": [
  {
   "cell_type": "markdown",
   "metadata": {
    "id": "eegqB00ypBRx"
   },
   "source": [
    "# **REQUIRED LIBRARIES**"
   ]
  },
  {
   "cell_type": "code",
   "execution_count": null,
   "metadata": {
    "colab": {
     "base_uri": "https://localhost:8080/"
    },
    "id": "-2kJ2KYopzkc",
    "outputId": "fd386eb8-0dd1-4cc4-a58f-1fd664ce2f38"
   },
   "outputs": [],
   "source": [
    "# !pip install stockstats\n",
    "# !pip install pandas_ta\n",
    "# !pip install plotly"
   ]
  },
  {
   "cell_type": "code",
   "execution_count": 2,
   "metadata": {
    "id": "ZEM0fXimo-aa"
   },
   "outputs": [],
   "source": [
    "import pandas as pd\n",
    "import numpy as np\n",
    "import matplotlib.pyplot as plt\n",
    "\n",
    "import math as mt\n",
    "import warnings\n",
    "import stockstats\n",
    "warnings.filterwarnings('ignore')\n",
    "import pandas_ta as ta\n",
    "import plotly.express as px\n",
    "import plotly.graph_objects as go"
   ]
  },
  {
   "cell_type": "markdown",
   "metadata": {
    "id": "A-bZAErZqNnJ"
   },
   "source": [
    "# Data Acquisition"
   ]
  },
  {
   "cell_type": "code",
   "execution_count": 3,
   "metadata": {
    "id": "cyumXz_ZqiwF"
   },
   "outputs": [],
   "source": [
    "data=pd.read_csv(r\"data_2020_2023_1h.csv\")"
   ]
  },
  {
   "cell_type": "code",
   "execution_count": 4,
   "metadata": {
    "colab": {
     "base_uri": "https://localhost:8080/",
     "height": 141
    },
    "id": "msl2Y1-nre1J",
    "outputId": "4c2665db-4f4b-41f4-8d0f-2ae4c90abf03"
   },
   "outputs": [],
   "source": [
    "data[\"datetime\"]=pd.to_datetime(data[\"datetime\"])"
   ]
  },
  {
   "cell_type": "code",
   "execution_count": null,
   "metadata": {
    "id": "3Z3LGfN4tRJI"
   },
   "outputs": [],
   "source": [
    "data"
   ]
  },
  {
   "cell_type": "markdown",
   "metadata": {
    "id": "kWsFmK9osabZ"
   },
   "source": [
    "## stock closing price"
   ]
  },
  {
   "cell_type": "code",
   "execution_count": null,
   "metadata": {
    "id": "24Sabne-rsDm"
   },
   "outputs": [],
   "source": [
    "import plotly.graph_objects as go\n",
    "fig = go.Figure()\n",
    "# Plotting stock price\n",
    "fig.add_trace(go.Scatter(x=data['datetime'], y=data['close'], mode='lines', name='Stock Price'))\n",
    "# Adding layout details\n",
    "fig.update_layout(\n",
    "    title='Stock Closing Price Over Time',\n",
    "    xaxis=dict(title='Date'),\n",
    "    yaxis=dict(title='Stock Closing Price'),\n",
    "    template='plotly_dark'\n",
    ")\n",
    "# Display the plot\n",
    "fig.show()"
   ]
  },
  {
   "cell_type": "markdown",
   "metadata": {
    "id": "vtKZFg23siHE"
   },
   "source": [
    "# Data Visualisation"
   ]
  },
  {
   "cell_type": "markdown",
   "metadata": {
    "id": "Wb7phycrsz78"
   },
   "source": [
    "## Candelstick pattern of stock"
   ]
  },
  {
   "cell_type": "code",
   "execution_count": null,
   "metadata": {
    "id": "fRXvLJVDsm-6"
   },
   "outputs": [],
   "source": [
    "import plotly.graph_objects as go\n",
    "from plotly.subplots import make_subplots\n",
    "\n",
    "fig = make_subplots(rows=2, cols=1, shared_xaxes=True, row_heights=[0.7, 0.3])\n",
    "\n",
    "candlestick = go.Candlestick(x=data['datetime'],\n",
    "                             open=data['open'],\n",
    "                             high=data['high'],\n",
    "                             low=data['low'],\n",
    "                             close=data['close'],\n",
    "                             name='Candlesticks')\n",
    "\n",
    "fig.add_trace(candlestick, row=1, col=1)\n",
    "\n",
    "volume_bars = go.Bar(x=data['datetime'], y=data['volume'], name='Volume Bars', marker=dict(color='yellow'))\n",
    "\n",
    "fig.add_trace(volume_bars, row=2, col=1)\n",
    "\n",
    "fig.update_layout(title='Candlestick Chart with Volume Bars',\n",
    "                  xaxis_title='Date',\n",
    "                  yaxis_title='Stock Price',\n",
    "                  template='plotly_dark')\n",
    "fig.show()"
   ]
  },
  {
   "cell_type": "markdown",
   "metadata": {
    "id": "QDbDdllWvUpq"
   },
   "source": [
    "## Average True Range (ATR):\n",
    "\n",
    "The formula for Average True Range (ATR) is given by:\n",
    "$$\n",
    "\\text{ATR}_t = \\frac{1}{n} \\sum_{i=0}^{n-1} \\max\\left( H_{t-i} - L_{t-i}, \\, |H_{t-i} - C_{t-i-1}|, \\, |L_{t-i} - C_{t-i-1}| \\right)\n",
    "$$\n",
    "Where:\n",
    "\n",
    "- \\( H_t \\) is the high price at time \\( t \\).\n",
    "- \\( L_t \\) is the low price at time \\( t \\).\n",
    "- \\( C_{t-1} \\) is the closing price at time \\( t-1 \\).\n"
   ]
  },
  {
   "cell_type": "code",
   "execution_count": 8,
   "metadata": {
    "id": "nc6ygUYau7r0"
   },
   "outputs": [],
   "source": [
    "data['ATR'] = ta.atr(data['high'], data['low'], data['close'], length= 6)"
   ]
  },
  {
   "cell_type": "code",
   "execution_count": null,
   "metadata": {
    "id": "RK0xBykSw8x3"
   },
   "outputs": [],
   "source": [
    "import plotly.graph_objects as go\n",
    "\n",
    "fig = go.Figure()\n",
    "\n",
    "fig.add_trace(go.Bar(x=data.index, y=data['ATR'], name='ATR',\n",
    "                     marker=dict(color='rgba(58, 71, 80, 0.6)',\n",
    "                                 line=dict(color='rgba(255, 71, 80, 1.0)', width=2))))\n",
    "\n",
    "fig.update_layout(title='ATR Bars',\n",
    "                  xaxis_title='Date',\n",
    "                  yaxis_title='ATR',\n",
    "                  template='plotly_dark')\n",
    "\n",
    "fig.show()"
   ]
  },
  {
   "cell_type": "code",
   "execution_count": null,
   "metadata": {
    "id": "-UohoQ7MxGho"
   },
   "outputs": [],
   "source": []
  },
  {
   "cell_type": "markdown",
   "metadata": {
    "id": "zAfWGotXypog"
   },
   "source": [
    "# Denoising Data"
   ]
  },
  {
   "cell_type": "markdown",
   "metadata": {
    "id": "imLKE7Ivy0jJ"
   },
   "source": [
    "## Heiken Ashi Method\n",
    "\n",
    "Heikin-Ashi Close:\n",
    "\n",
    "$$\n",
    "\\text{HA_Close}_t = \\frac{\\text{Open}_t + \\text{High}_t + \\text{Low}_t + \\text{Close}_t}{4}\n",
    "$$\n",
    "\n",
    "Heikin-Ashi Open:\n",
    "$$\n",
    "\\text{HA_Open}_t = \\frac{\\text{HA_Open}_{t-1} + \\text{HA_Close}_{t-1}}{2}\n",
    "$$\n",
    "\n",
    "Heikin-Ashi High:\n",
    "$$\n",
    "\\text{HA_High}_t = \\max(\\text{High}_t, \\text{HA_Open}_t, \\text{HA_Close}_t)\n",
    "$$\n",
    "\n",
    "Heikin-Ashi Low:\n",
    "$$\n",
    "\\text{HA_Low}_t = \\min(\\text{Low}_t, \\text{HA_Open}_t, \\text{HA\\_Close}_t)\n",
    "$$"
   ]
  },
  {
   "cell_type": "code",
   "execution_count": 10,
   "metadata": {
    "colab": {
     "base_uri": "https://localhost:8080/",
     "height": 176
    },
    "id": "g962uDos07U6",
    "outputId": "b3904c4a-5829-4c5c-c93e-9c04461e5885"
   },
   "outputs": [],
   "source": [
    "def heikin_ashi_candlesticks(data: pd.DataFrame):\n",
    "    # Calculate HA close\n",
    "    data[\"HA_CLOSE\"] = (data[\"low\"] + data[\"high\"] + data[\"close\"] + data[\"open\"]) / 4\n",
    "\n",
    "    for i in range(len(data)):\n",
    "            if i == 0:\n",
    "                # For the first row\n",
    "                data.at[i, \"HA_OPEN\"] = (data.at[i, \"open\"] + data.at[i, \"close\"]) / 2\n",
    "            else:\n",
    "                # For subsequent rows\n",
    "                data.at[i, \"HA_OPEN\"] = (data.at[i - 1, \"HA_OPEN\"] + data.at[i - 1, \"HA_CLOSE\"]) / 2\n",
    "\n",
    "    data[\"HA_HIGH\"] = data[[\"HA_OPEN\", \"HA_CLOSE\", \"high\"]].max(axis=1)\n",
    "    data[\"HA_LOW\"] = data[[\"HA_OPEN\", \"HA_CLOSE\", \"low\"]].min(axis=1)\n",
    "\n",
    "    return data\n",
    "data=heikin_ashi_candlesticks(data)"
   ]
  },
  {
   "cell_type": "code",
   "execution_count": null,
   "metadata": {
    "id": "mpj0LSDD1CRu"
   },
   "outputs": [],
   "source": [
    "fig=px.line(data,x=\"datetime\",y=[\"close\",\"HA_CLOSE\"],title=\"Denoising data\",template=\"plotly_dark\")\n",
    "fig.show()"
   ]
  },
  {
   "cell_type": "code",
   "execution_count": null,
   "metadata": {
    "id": "dt5VS-5s1tpK"
   },
   "outputs": [],
   "source": []
  },
  {
   "cell_type": "markdown",
   "metadata": {
    "id": "hk2fEEpR2gFx"
   },
   "source": [
    "# STARTEGY"
   ]
  },
  {
   "cell_type": "markdown",
   "metadata": {
    "id": "JZpLWpnS2nhh"
   },
   "source": [
    "## MACD"
   ]
  },
  {
   "cell_type": "markdown",
   "metadata": {
    "id": "8cq-ljyUMnI0"
   },
   "source": [
    "* Moving average convergence/divergence (MACD, or MAC-D): It shows the relationship between two exponential moving averages (EMAs) of a security's price. The MACD line is calculated by subtracting the 28-period EMA from the 12-period EMA.\n",
    "\n",
    "* Input Parameters- An array containing the closing price of the stock"
   ]
  },
  {
   "cell_type": "code",
   "execution_count": 12,
   "metadata": {
    "id": "qymJxpgv2mCg"
   },
   "outputs": [],
   "source": [
    "def macd(data):\n",
    "\n",
    "    data['MACD'] = data['HA_CLOSE'].ewm(span = 12,adjust=False).mean() - data['HA_CLOSE'].ewm(span=28,adjust=False).mean()\n",
    "    data['Signal_MACD'] = data['MACD'].ewm(span = 9,adjust = False).mean()\n",
    "    return data\n",
    "data = macd(data)"
   ]
  },
  {
   "cell_type": "code",
   "execution_count": null,
   "metadata": {
    "id": "yOic6yOy36QC"
   },
   "outputs": [],
   "source": [
    "import plotly.graph_objects as go\n",
    "import pandas as pd\n",
    "\n",
    "\n",
    "\n",
    "data['MACD_Histogram'] = data['Signal_MACD'] - data['MACD']\n",
    "\n",
    "trace_macd = go.Scatter(x=data.index, y=data['MACD'], mode='lines', name='MACD', line=dict(color='#4C78A8'))\n",
    "trace_signal = go.Scatter(x=data.index, y=data['Signal_MACD'], mode='lines', name='Signal MACD', line=dict(color='#F58518'))\n",
    "trace_histogram = go.Bar(x=data.index, y=data['MACD_Histogram'], name='MACD Histogram',\n",
    "                         marker=dict(color=['red' if val < 0 else 'green' for val in data['MACD_Histogram']]))\n",
    "\n",
    "\n",
    "layout = go.Layout(title='MACD and Signal Line Over Time',\n",
    "                   xaxis=dict(title='Time'),\n",
    "                   yaxis=dict(title='MACD'),\n",
    "                   showlegend=True)\n",
    "\n",
    "fig = go.Figure(data=[trace_macd, trace_signal, trace_histogram], layout=layout)\n",
    "fig.show()"
   ]
  },
  {
   "cell_type": "markdown",
   "metadata": {
    "id": "At3amoZ55e6k"
   },
   "source": [
    "### Signal Generation based on MACD"
   ]
  },
  {
   "cell_type": "markdown",
   "metadata": {
    "id": "RZMWM_YGNDBp"
   },
   "source": [
    "* BUY SIGNAL(1): When MACD line crosses Signal Line from below\n",
    "* SELL SIGNAL(-1): When MACD Line crosses  Signal Line from above"
   ]
  },
  {
   "cell_type": "code",
   "execution_count": 14,
   "metadata": {
    "id": "rbWl9nBK4Gpe"
   },
   "outputs": [],
   "source": [
    "def signal_MACD(data):\n",
    "    signals=[0]\n",
    "    for i in range(1,data.shape[0]):\n",
    "      if(data['MACD'][i] > data['Signal_MACD'][i] and data['MACD'][i-1] < data['Signal_MACD'][i-1]):\n",
    "        signals.append(1)\n",
    "      elif(data['MACD'][i] < data['Signal_MACD'][i] and data['MACD'][i-1] > data['Signal_MACD'][i-1]):\n",
    "        signals.append(-1)\n",
    "      else:\n",
    "        signals.append(0)\n",
    "    data[\"signals_MACD\"]=signals\n",
    "    return data\n",
    "data=signal_MACD(data)"
   ]
  },
  {
   "cell_type": "code",
   "execution_count": null,
   "metadata": {
    "id": "Asdn4unP5b5P"
   },
   "outputs": [],
   "source": []
  },
  {
   "cell_type": "markdown",
   "metadata": {
    "id": "xCDaemrm6FGw"
   },
   "source": [
    "## ADX"
   ]
  },
  {
   "cell_type": "markdown",
   "metadata": {
    "id": "uPqaLRvsNm3C"
   },
   "source": [
    "* The average directional index (ADX) is a technical indicator used by traders to determine the strength of a price trend for a financial security. Trading in the direction of a strong trend reduces risk and increases profit potential. Many traders consider the ADX to be the ultimate trend indicator because it is so reliable."
   ]
  },
  {
   "cell_type": "markdown",
   "metadata": {
    "id": "ktOa76QNOHR2"
   },
   "source": [
    "* +DI (Positive Directional Indicator): Measures the presence of an upward trend. It indicates the strength of positive price movement.\n",
    "* -DI (Negative Directional Indicator): Measures the presence of a downward trend. It indicates the strength of negative price movement.\n",
    "* ADX (Average Directional Index): Smooths the DX (Directional Index) values to provide a single line that reflects the strength of the trend, without indicating its direction. An ADX value above 25 typically indicates a strong trend, while a value below 20 suggests a weak or non-existent trend."
   ]
  },
  {
   "cell_type": "code",
   "execution_count": 15,
   "metadata": {
    "colab": {
     "base_uri": "https://localhost:8080/",
     "height": 176
    },
    "id": "0QjE7AHR6M_H",
    "outputId": "e5972c9a-f4cf-4691-ae5b-9c2f7a576362"
   },
   "outputs": [],
   "source": [
    "def adx(data,period):\n",
    "  ad = ta.adx(data['HA_HIGH'] , data['HA_LOW'] , data['HA_CLOSE'] , timeperiod=period)\n",
    "  data['ADX'] = ad['ADX_14']\n",
    "  data['+DI'] = ad['DMP_14']\n",
    "  data['-DI'] = ad['DMN_14']\n",
    "  return data\n",
    "data=adx(data,14)"
   ]
  },
  {
   "cell_type": "code",
   "execution_count": null,
   "metadata": {
    "id": "1XNCYihN6l_5"
   },
   "outputs": [],
   "source": [
    "fig = make_subplots(rows=2, cols=1, shared_xaxes=True,\n",
    "                    subplot_titles=('ADX', '+DI and -DI'),\n",
    "                    vertical_spacing=0.1)\n",
    "\n",
    "# Add ADX trace\n",
    "fig.add_trace(go.Scatter(x=data.index, y=data['ADX'], mode='lines', name='ADX',\n",
    "                         line=dict(color='blue', width=2)), row=1, col=1)\n",
    "\n",
    "# Add +DI and -DI traces\n",
    "fig.add_trace(go.Scatter(x=data.index, y=data['+DI'], mode='lines', name='+DI',\n",
    "                         line=dict(color='green', width=2)), row=2, col=1)\n",
    "fig.add_trace(go.Scatter(x=data.index, y=data['-DI'], mode='lines', name='-DI',\n",
    "                         line=dict(color='red', width=2)), row=2, col=1)\n",
    "\n",
    "# Update layout\n",
    "fig.update_layout(title='Average Directional Index (ADX) with +DI and -DI',\n",
    "                  template='plotly_dark')\n",
    "\n",
    "# Update x-axis and y-axis labels\n",
    "fig.update_xaxes(title_text='Date', row=2, col=1)\n",
    "fig.update_yaxes(title_text='ADX Value', row=1, col=1)\n",
    "fig.update_yaxes(title_text='Directional Indicators', row=2, col=1)\n",
    "\n",
    "# Show plot\n",
    "fig.show()"
   ]
  },
  {
   "cell_type": "markdown",
   "metadata": {
    "id": "gZtU5bVP8Qpg"
   },
   "source": [
    "### signals generation using adx"
   ]
  },
  {
   "cell_type": "code",
   "execution_count": 17,
   "metadata": {
    "id": "Llrtz9GT7GJV"
   },
   "outputs": [],
   "source": [
    "def signal_adx(data):\n",
    "  signals = []\n",
    "  for i in range(len(data)):\n",
    "    if(data['+DI'][i] > data['-DI'][i] and data['ADX'][i] >= 25):\n",
    "      signals.append(1)\n",
    "    elif(data['+DI'][i] < data['-DI'][i] and data['ADX'][i] >= 25):\n",
    "      signals.append(-1)\n",
    "    else:\n",
    "      signals.append(0)\n",
    "  data['signals_adx'] = signals\n",
    "  return data\n",
    "data=signal_adx(data)"
   ]
  },
  {
   "cell_type": "code",
   "execution_count": null,
   "metadata": {
    "id": "tuQSNwGL78vT"
   },
   "outputs": [],
   "source": []
  },
  {
   "cell_type": "markdown",
   "metadata": {
    "id": "MItaD18Z89zk"
   },
   "source": [
    "## ICHIMOKU CLOUD"
   ]
  },
  {
   "cell_type": "code",
   "execution_count": 18,
   "metadata": {
    "id": "5tuX-3j69AW9"
   },
   "outputs": [],
   "source": [
    "def ichimoku_cloud(\n",
    "    data: pd.DataFrame,\n",
    "    small_period: int = 7,\n",
    "    large_period: int = 42,\n",
    "    rolling_period: int = 60,\n",
    "):\n",
    "\n",
    "    small_period_high = data[\"HA_HIGH\"].rolling(window=small_period).max()\n",
    "    small_period_low = data[\"HA_LOW\"].rolling(window=small_period).min()\n",
    "    data[\"tenkan_sen\"] = (small_period_high + small_period_low) / 2\n",
    "\n",
    "    large_period_high = data[\"HA_HIGH\"].rolling(window=large_period).max()\n",
    "    large_period_low = data[\"HA_LOW\"].rolling(window=large_period).min()\n",
    "    data[\"kijun_sen\"] = (large_period_high + large_period_low) / 2\n",
    "\n",
    "    data[\"senkou_span_a\"] = (data[\"tenkan_sen\"] + data[\"kijun_sen\"]) / 2\n",
    "    data[\"senkou_span_a\"] = data[\"senkou_span_a\"].shift(20)\n",
    "    data[\"senkou_span_b\"] = (\n",
    "        data[\"HA_HIGH\"].rolling(window=rolling_period).max()\n",
    "        + data[\"HA_LOW\"].rolling(window=rolling_period).min()\n",
    "    ) / 2\n",
    "    data[\"senkou_span_b\"] = data[\"senkou_span_b\"].shift(40)\n",
    "    cloud_upper_bound = []\n",
    "    cloud_lower_bound = []\n",
    "    cloud_width = []\n",
    "    data['cloud_threshold'] = 0\n",
    "    for i in range(len(data)):\n",
    "\n",
    "        cloud_width.append(abs(data['senkou_span_a'][i] - data['senkou_span_b'][i]))\n",
    "        cloud_upper_bound.append(max(data['senkou_span_a'][i],data['senkou_span_b'][i]))\n",
    "        cloud_lower_bound.append(min(data['senkou_span_a'][i],data['senkou_span_b'][i]))\n",
    "        data['cloud_threshold'][i] = (cloud_upper_bound[-1] - cloud_lower_bound[-1])\n",
    "    cloud_threshold = data['cloud_threshold'].rolling(window=11).mean()\n",
    "    return data\n",
    "data = ichimoku_cloud(data)"
   ]
  },
  {
   "cell_type": "code",
   "execution_count": null,
   "metadata": {
    "colab": {
     "base_uri": "https://localhost:8080/",
     "height": 542
    },
    "id": "S4E7D7w29lIT",
    "outputId": "7d65947d-f07a-4643-e002-05ef7523a9a0"
   },
   "outputs": [],
   "source": [
    "fig=px.line(data,x=\"datetime\",y=[\"close\",\"senkou_span_a\",\"senkou_span_b\"])\n",
    "fig.show()"
   ]
  },
  {
   "cell_type": "markdown",
   "metadata": {
    "id": "qBSSs7Ix-PXv"
   },
   "source": [
    "### SIGNAL GENERATION BY ICHIMOKU CLOUD"
   ]
  },
  {
   "cell_type": "code",
   "execution_count": 20,
   "metadata": {
    "id": "K36cmOVm9-JA"
   },
   "outputs": [],
   "source": [
    "def signals_ichimoku(data):\n",
    "  cloud_upper_bound = []\n",
    "  cloud_lower_bound = []\n",
    "  cloud_width = []\n",
    "  data['cloud_threshold'] = 0\n",
    "  for i in range(len(data)):\n",
    "\n",
    "      cloud_width.append(abs(data['senkou_span_a'][i] - data['senkou_span_b'][i]))\n",
    "      cloud_upper_bound.append(max(data['senkou_span_a'][i],data['senkou_span_b'][i]))\n",
    "      cloud_lower_bound.append(min(data['senkou_span_a'][i],data['senkou_span_b'][i]))\n",
    "      data['cloud_threshold'][i] = (cloud_upper_bound[-1] - cloud_lower_bound[-1])\n",
    "  cloud_threshold = data['cloud_threshold'].rolling(window=11).mean()\n",
    "\n",
    "  signals = []\n",
    "  for i in range(len(data)):\n",
    "\n",
    "      if(data['close'][i] > cloud_upper_bound[i]  and cloud_width[i] > 2*cloud_threshold[i]):\n",
    "          signals.append(1)\n",
    "      elif(data['close'][i] < cloud_lower_bound[i]  and cloud_width[i] > 2*cloud_threshold[i]):\n",
    "          signals.append(-1)\n",
    "      else:\n",
    "          signals.append(0)\n",
    "  data['signals_ich_1'] = signals\n",
    "\n",
    "  ## Bearish and bullish market signalss\n",
    "\n",
    "  signals = []\n",
    "  for i in range(len(data)):\n",
    "      if(data['tenkan_sen'][i] > data['kijun_sen'][i] and data['tenkan_sen'][i-1] < data['kijun_sen'][i-1]):\n",
    "          signals.append(1)\n",
    "      elif(data['tenkan_sen'][i] < data['kijun_sen'][i] and data['tenkan_sen'][i-1] > data['kijun_sen'][i-1]):\n",
    "          signals.append(-1)\n",
    "      else:\n",
    "          signals.append(0)\n",
    "  data['signals_ich_2'] = signals\n",
    "\n",
    "  ## Another way of genrating signalss\n",
    "\n",
    "  signals = []\n",
    "  for i in range(len(data)):\n",
    "      if(data.HA_CLOSE[i] > data.senkou_span_a[i] and data.senkou_span_a[i] > data.senkou_span_b[i]):\n",
    "          signals.append(1)\n",
    "      elif(data.HA_CLOSE[i] < data.senkou_span_a[i] and data.senkou_span_a[i] > data.senkou_span_b[i]):\n",
    "          signals.append(-1)\n",
    "      else:\n",
    "          signals.append(0)\n",
    "  data['signals_ich_3'] = signals\n",
    "  return data\n",
    "data=signals_ichimoku(data)"
   ]
  },
  {
   "cell_type": "code",
   "execution_count": null,
   "metadata": {
    "id": "ccvJTfhv_A8K"
   },
   "outputs": [],
   "source": []
  },
  {
   "cell_type": "markdown",
   "metadata": {
    "id": "3U5iO7F0BR4P"
   },
   "source": [
    "## Moving Averages"
   ]
  },
  {
   "cell_type": "markdown",
   "metadata": {
    "id": "EF088cLI_I8z"
   },
   "source": [
    "### Simple Moving Average"
   ]
  },
  {
   "cell_type": "code",
   "execution_count": 21,
   "metadata": {
    "id": "QxhfOtN7_Log"
   },
   "outputs": [],
   "source": [
    "def sma(data,period=10):\n",
    "  data['sma'] = data['HA_CLOSE'].ewm(span=period,adjust=False).mean()\n",
    "  return data\n",
    "data=sma(data)"
   ]
  },
  {
   "cell_type": "code",
   "execution_count": null,
   "metadata": {
    "colab": {
     "base_uri": "https://localhost:8080/",
     "height": 542
    },
    "id": "b4QQ4YOE_mH9",
    "outputId": "fba5002e-a509-4e4c-c5d6-8165a2fe1446"
   },
   "outputs": [],
   "source": [
    "fig=px.line(data,x=\"datetime\",y=[\"close\",\"sma\"],title=\"CLOSE VS SMA PRICES\")\n",
    "fig.show()"
   ]
  },
  {
   "cell_type": "code",
   "execution_count": null,
   "metadata": {
    "id": "X30WTUYZ_4Iv"
   },
   "outputs": [],
   "source": []
  },
  {
   "cell_type": "markdown",
   "metadata": {
    "id": "dudDZkTcAJWv"
   },
   "source": [
    "### Hull Moving Average"
   ]
  },
  {
   "cell_type": "code",
   "execution_count": 23,
   "metadata": {
    "id": "9MiorOHvAMvH"
   },
   "outputs": [],
   "source": [
    "def hma(data,period):\n",
    " wma_1 = data['HA_CLOSE'].rolling(period//2).apply(lambda x: \\\n",
    " np.sum(x * np.arange(1, period//2+1)) / np.sum(np.arange(1, period//2+1)), raw=True)\n",
    " wma_2 = data['HA_CLOSE'].rolling(period).apply(lambda x: \\\n",
    " np.sum(x * np.arange(1, period+1)) / np.sum(np.arange(1, period+1)), raw=True)\n",
    " diff = 2 * wma_1 - wma_2\n",
    " hma = diff.rolling(int(np.sqrt(period))).mean()\n",
    " data['hma'] = hma\n",
    " return data\n",
    "data=hma(data,5)"
   ]
  },
  {
   "cell_type": "code",
   "execution_count": null,
   "metadata": {
    "colab": {
     "base_uri": "https://localhost:8080/",
     "height": 542
    },
    "id": "2-mau2F-AksG",
    "outputId": "1af72454-07da-4c42-d5e9-3c3583c70f03"
   },
   "outputs": [],
   "source": [
    "fig=px.line(data,x=\"datetime\",y=[\"close\",\"hma\"],title=\"CLOSE VS HMA PRICES\")\n",
    "fig.show()"
   ]
  },
  {
   "cell_type": "markdown",
   "metadata": {
    "id": "DpmB83KyBeLG"
   },
   "source": [
    "### signal geneartion using hma and sma"
   ]
  },
  {
   "cell_type": "code",
   "execution_count": 25,
   "metadata": {
    "id": "3PyJM7hIA1RS"
   },
   "outputs": [],
   "source": [
    "def signals_hma(data):\n",
    "  signals = []\n",
    "  for i in range(len(data)):\n",
    "      if(data['hma'][i] > data['sma'][i]):\n",
    "          signals.append(1)\n",
    "      elif(data['hma'][i] < data['sma'][i]):\n",
    "          signals.append(-1)\n",
    "      else:\n",
    "          signals.append(0)\n",
    "  data['signals_hma'] = signals\n",
    "  return data\n",
    "data=signals_hma(data)"
   ]
  },
  {
   "cell_type": "markdown",
   "metadata": {
    "id": "B6RE8mlMBkjS"
   },
   "source": [
    "## Boilinger Bands"
   ]
  },
  {
   "cell_type": "code",
   "execution_count": 26,
   "metadata": {
    "id": "AQW7J8FIBt-Q"
   },
   "outputs": [],
   "source": [
    "def bollinger_bands(data, BBANDS_window, STDDEV_factor):\n",
    "\n",
    "    weights = np.arange(1, BBANDS_window + 1)\n",
    "    weights_sum = np.sum(weights)\n",
    "    middle_band = np.convolve(data['close'], weights[::-1], mode='valid') / weights_sum\n",
    "    middle_band = np.pad(middle_band, (len(data) - len(middle_band), 0), 'constant', constant_values=np.nan)\n",
    "    data['MiddleBand'] = middle_band\n",
    "\n",
    "\n",
    "    deviations = data['close'] - data['MiddleBand']\n",
    "\n",
    "\n",
    "    squared_deviations = deviations ** 2\n",
    "    sum_squared_deviations = np.convolve(squared_deviations, np.ones(BBANDS_window), mode='valid')\n",
    "    std = np.sqrt(sum_squared_deviations / (BBANDS_window - 1))\n",
    "    std = np.pad(std, (len(data) - len(std), 0), 'constant', constant_values=np.nan)\n",
    "    data['Std'] = std\n",
    "\n",
    "\n",
    "    data['UpperBand'] = data['MiddleBand'] + STDDEV_factor * data['Std']\n",
    "    data['LowerBand'] = data['MiddleBand'] - STDDEV_factor * data['Std']\n",
    "\n",
    "    return data\n",
    "data=bollinger_bands(data,13,2.8)"
   ]
  },
  {
   "cell_type": "code",
   "execution_count": null,
   "metadata": {
    "colab": {
     "base_uri": "https://localhost:8080/",
     "height": 542
    },
    "id": "xefO8ylSCZ1L",
    "outputId": "a1845ed8-0842-4d15-fa93-1b31c0837f2f"
   },
   "outputs": [],
   "source": [
    "fig = go.Figure()\n",
    "\n",
    "# Add Close price trace\n",
    "fig.add_trace(go.Scatter(x=data.index, y=data['close'], mode='lines', name='Close',\n",
    "                         line=dict(color='blue', width=2)))\n",
    "\n",
    "\n",
    "\n",
    "# Add Upper Bollinger Band trace\n",
    "fig.add_trace(go.Scatter(x=data.index, y=data['UpperBand'], mode='lines', name='Upper Band',\n",
    "                         line=dict(color='green', width=2, dash='dash')))\n",
    "\n",
    "# Add Lower Bollinger Band trace\n",
    "fig.add_trace(go.Scatter(x=data.index, y=data['LowerBand'], mode='lines', name='Lower Band',\n",
    "                         line=dict(color='red', width=2, dash='dash')))\n",
    "\n",
    "\n",
    "# Update layout\n",
    "fig.update_layout(title='Bollinger Bands',\n",
    "                  xaxis_title='Date',\n",
    "                  yaxis_title='Price',\n",
    "                  template='plotly_dark')\n",
    "\n",
    "# Show plot\n",
    "fig.show()"
   ]
  },
  {
   "cell_type": "code",
   "execution_count": 28,
   "metadata": {
    "id": "Mj7fOPU8B-qs"
   },
   "outputs": [],
   "source": [
    "def signals_bollinger(data):\n",
    "  signals=[0]\n",
    "  for i in range(1,len(data)):\n",
    "    if(data.close[i] > data.UpperBand[i] and data.close[i-1] < data.UpperBand[i-1]):\n",
    "        signals.append(1)\n",
    "    elif(data.close[i] < data.LowerBand[i] and data.close[i-1] > data.LowerBand[i-1]):\n",
    "        signals.append(-1)\n",
    "    else:\n",
    "        signals.append(0)\n",
    "  data['signals_bollinger'] = signals\n",
    "  return data\n",
    "data=signals_bollinger(data)\n"
   ]
  },
  {
   "cell_type": "code",
   "execution_count": null,
   "metadata": {
    "id": "fTri-p-ECXmy"
   },
   "outputs": [],
   "source": []
  },
  {
   "cell_type": "markdown",
   "metadata": {
    "id": "-xKNREr3Dyzn"
   },
   "source": [
    "## SUPERTREND"
   ]
  },
  {
   "cell_type": "code",
   "execution_count": 29,
   "metadata": {
    "id": "k3ZflXIMD1Gl"
   },
   "outputs": [],
   "source": [
    "# Function to calculate SuperTrend\n",
    "def calculate_super_trend(data, atr_period, multiplier):\n",
    "    # Calculate the average of high and low prices\n",
    "    high_low_avg = (data['HA_HIGH'] + data['HA_LOW']) / 2\n",
    "\n",
    "    # Calculate the True Range (TR)\n",
    "    data['tr'] = data['HA_HIGH'] - data['HA_LOW']\n",
    "\n",
    "    # Calculate the Average True Range (ATR) using rolling mean\n",
    "    data['atr'] = data['tr'].rolling(atr_period).mean()\n",
    "\n",
    "    # Calculate the upper and lower bands of the SuperTrend\n",
    "    data['upper_band'] = high_low_avg + multiplier * data['atr']\n",
    "    data['lower_band'] = high_low_avg - multiplier * data['atr']\n",
    "\n",
    "    # Initialize a column to track whether the market is in an uptrend\n",
    "    data['in_uptrend'] = True\n",
    "\n",
    "    # Loop through the data to determine the trend direction\n",
    "    for i in range(1, len(data)):\n",
    "        # Check if the previous close was above the upper band\n",
    "        if data['HA_CLOSE'][i - 1] > data['upper_band'][i - 1]:\n",
    "            data['in_uptrend'][i] = False\n",
    "        # Check if the previous close was below the lower band\n",
    "        elif data['HA_CLOSE'][i - 1] < data['lower_band'][i - 1]:\n",
    "            data['in_uptrend'][i] = True\n",
    "        else:\n",
    "            # If neither, maintain the previous trend direction\n",
    "            data['in_uptrend'][i] = data['in_uptrend'][i - 1]\n",
    "\n",
    "        # Adjust the bands based on the trend direction\n",
    "        if data['in_uptrend'][i]:\n",
    "            data['lower_band'][i] = max(data['lower_band'][i], data['lower_band'][i - 1])\n",
    "        else:\n",
    "            data['upper_band'][i] = min(data['upper_band'][i], data['upper_band'][i - 1])\n",
    "\n",
    "    # Create a 'SuperTrend' column based on the trend direction\n",
    "    data['SuperTrend'] = np.where(data['in_uptrend'], data['lower_band'], data['upper_band'])\n",
    "\n",
    "    # Return a DataFrame containing only the 'SuperTrend' column\n",
    "    return data[['SuperTrend']]\n",
    "\n",
    "# Calculate SuperTrend using the defined function\n",
    "data['super'] = calculate_super_trend(data, 12, 4)\n",
    "\n",
    "# Initialize a 'trend' column in the DataFrame\n",
    "data['trend'] = 0\n",
    "\n",
    "# Determine the trend direction based on the relationship between 'close' and 'super'\n",
    "for i in range(len(data)):\n",
    "    if data.HA_CLOSE[i] > data.super[i]:\n",
    "        data.trend[i] = 1  # Set trend to 1 for an uptrend\n",
    "    elif data.HA_CLOSE[i] < data.super[i]:\n",
    "        data.trend[i] = -1  # Set trend to -1 for a downtrend"
   ]
  },
  {
   "cell_type": "code",
   "execution_count": null,
   "metadata": {
    "colab": {
     "base_uri": "https://localhost:8080/",
     "height": 542
    },
    "id": "8T0P7K78D8I4",
    "outputId": "a25e70cf-1ecd-41d5-dd48-6e0b8ee9974d"
   },
   "outputs": [],
   "source": [
    "up_trend = data['close'].where(data['close'] > data['super'])\n",
    "down_trend = data['close'].where(data['close'] < data['super'])\n",
    "\n",
    "\n",
    "# Import Plotly for visualization\n",
    "import plotly.graph_objects as go\n",
    "\n",
    "# Create a Plotly figure\n",
    "fig = go.Figure()\n",
    "\n",
    "# Plot the Close prices\n",
    "fig.add_trace(go.Scatter(x=data.index, y=data['close'], mode='lines', name='Close', line=dict(color='blue')))\n",
    "\n",
    "# Plot points above Super Trend in green\n",
    "fig.add_trace(go.Scatter(x=data.index, y=up_trend, mode='lines', name='Above Super Trend', marker=dict(color='green', size=8)))\n",
    "\n",
    "# Plot points below Super Trend in red\n",
    "fig.add_trace(go.Scatter(x=data.index, y=down_trend, mode='lines', name='Below Super Trend', marker=dict(color='red', size=8)))\n",
    "\n",
    "# Update layout and display the plot\n",
    "fig.update_layout(\n",
    "    title='Trend Identification',\n",
    "    xaxis_title='X-Axis Title',\n",
    "    yaxis_title='Y-Axis Title',\n",
    "    showlegend=True,\n",
    "    template=\"plotly_dark\"\n",
    ")"
   ]
  },
  {
   "cell_type": "code",
   "execution_count": null,
   "metadata": {
    "id": "Co5AT4sOETY0"
   },
   "outputs": [],
   "source": []
  },
  {
   "cell_type": "markdown",
   "metadata": {
    "id": "SIWceddvEx04"
   },
   "source": [
    "## Log Slope"
   ]
  },
  {
   "cell_type": "code",
   "execution_count": 31,
   "metadata": {
    "id": "5F6x5rQzEzz3"
   },
   "outputs": [],
   "source": [
    "def log_slope(data):\n",
    "  data['log'] = 0\n",
    "  for i in range(1,len(data)):\n",
    "      damn = mt.log(data.close[i]/data.close[i-1])\n",
    "      data.log[i] = damn\n",
    "  data['slope'] = data.log.rolling(window = 5).mean()\n",
    "  data['log_slope'] = (data['slope'][i] - data['slope'].shift(10))/10\n",
    "  return data\n",
    "data=log_slope(data)"
   ]
  },
  {
   "cell_type": "code",
   "execution_count": null,
   "metadata": {
    "colab": {
     "base_uri": "https://localhost:8080/",
     "height": 542
    },
    "id": "ZoDldnE9FGt-",
    "outputId": "359ac001-ffa0-4bf0-cd96-90403d93d74b"
   },
   "outputs": [],
   "source": [
    "fig=px.line(data,x=\"datetime\",y=[\"log_slope\"])\n",
    "fig.show()"
   ]
  },
  {
   "cell_type": "code",
   "execution_count": null,
   "metadata": {
    "id": "HLvJUiQyFmix"
   },
   "outputs": [],
   "source": []
  },
  {
   "cell_type": "markdown",
   "metadata": {
    "id": "Q9cZEsbXGztA"
   },
   "source": [
    "## IBS"
   ]
  },
  {
   "cell_type": "code",
   "execution_count": 33,
   "metadata": {
    "id": "qq43uOyBG1zR"
   },
   "outputs": [],
   "source": [
    "def ibs(data):\n",
    "  data ['IBS'] = (data['HA_CLOSE'] - data['HA_LOW']) /(data['HA_HIGH'] - data['HA_LOW'])\n",
    "  data['weight_avg'] = data['IBS'].ewm(span=5,adjust=True).mean()\n",
    "  return data\n",
    "data=ibs(data)"
   ]
  },
  {
   "cell_type": "markdown",
   "metadata": {
    "id": "438flOEcGHZZ"
   },
   "source": [
    "# Signal Generation"
   ]
  },
  {
   "cell_type": "code",
   "execution_count": 34,
   "metadata": {
    "id": "Fc4_U1VuGKfA"
   },
   "outputs": [],
   "source": [
    "def bs_signals(data):\n",
    "  signals = []\n",
    "  for i in range(len(data)):\n",
    "    ads = data['signals_adx'][i]\n",
    "    bs = data['signals_bollinger'][i]\n",
    "\n",
    "    if(bs + ads >= 2 and data.ATR[i] <= 500):\n",
    "      signals.append(1)\n",
    "\n",
    "    elif(bs + ads <= -2 and data['ATR'][i] <= 500 ):\n",
    "      signals.append(-1)\n",
    "\n",
    "    else:\n",
    "      signals.append(0)\n",
    "\n",
    "  data['signals_bs'] = signals\n",
    "  return data"
   ]
  },
  {
   "cell_type": "code",
   "execution_count": 35,
   "metadata": {
    "id": "gCmN_0GyHaSo"
   },
   "outputs": [],
   "source": [
    "def ich_signals(data):\n",
    "    signal = []\n",
    "    for i in range(len(data)):\n",
    "      ichs_2 = data['signals_ich_2'][i]\n",
    "      ichs_3 = data['signals_ich_3'][i]\n",
    "      hms = data[\"signals_hma\"][i]\n",
    "      IBS = data['weight_avg'][i]\n",
    "\n",
    "      if(ichs_3 + ichs_2 + hms>=1 and IBS >= 0.68):\n",
    "        signal.append(1)\n",
    "\n",
    "      elif(ichs_3 + ichs_2 + hms <= -1  and IBS <= 0.35):\n",
    "        signal.append(-1)\n",
    "\n",
    "      else:\n",
    "        signal.append(0)\n",
    "\n",
    "    data['signals_ich'] = signal\n",
    "    return data"
   ]
  },
  {
   "cell_type": "code",
   "execution_count": 36,
   "metadata": {
    "id": "xB6ltxZxzH3A"
   },
   "outputs": [],
   "source": [
    "data=bs_signals(data)\n",
    "data=ich_signals(data)"
   ]
  },
  {
   "cell_type": "markdown",
   "metadata": {
    "id": "yHBIAWiH2k00"
   },
   "source": [
    "# RISK MANGEMENT"
   ]
  },
  {
   "cell_type": "code",
   "execution_count": 37,
   "metadata": {
    "id": "_jNv6wpL2sTu"
   },
   "outputs": [],
   "source": [
    "class RiskMangement():\n",
    "  def __init__(self,data, signals,stop_loss_percent=0.02,stop_loss_percent_short = 0.02,dynamic_exit_percent=1,multiplier_long = 4, multiplier_short = 10, jump_percent = 5):\n",
    "    self.data=data.copy()\n",
    "    self.current=0\n",
    "    self.signals=signals\n",
    "    self.signals_final=[]\n",
    "    self.stop_loss_percent=stop_loss_percent\n",
    "    self.stop_loss_prcent_short=stop_loss_percent_short\n",
    "    self.dynamic_exit_percent=dynamic_exit_percent\n",
    "    self.multiplier_short=multiplier_short\n",
    "    self.multiplier_long= multiplier_long\n",
    "    self.jump_percent=jump_percent\n",
    "    self.jump=0\n",
    "    self.intial_balance = 1000\n",
    "    self.capital = self.intial_balance\n",
    "    self.number_of_stock=0\n",
    "    self.portfolio_value=[]\n",
    "    self.stop_loss=0\n",
    "    self.atr_stop_loss=0\n",
    "    self.atr_dynamic_exit=0\n",
    "    self.current_maxima=0\n",
    "    self.current_minima=0\n",
    "    self.dynamic_exit=0\n",
    "    self.multiplier=1\n",
    "    self.i=0\n",
    "    self.fall=0\n",
    "    self.invested_capital=self.capital\n",
    "    self.entry = 0\n",
    "    self.exit = 0\n",
    "    self.current_strategy = 'none'\n",
    "    self.strategy = 'none'\n",
    "  def portfolio(self):\n",
    "    capital=self.capital+self.number_of_stock*self.data[\"close\"][self.i]*self.current\n",
    "    self.portfolio_value.append(capital)\n",
    "\n",
    "\n",
    "  def volatility_check(self):\n",
    "    if(self.data.HA_CLOSE[self.i] < self.data.super[self.i]):\n",
    "              self.stop_loss_percent_short = 0.02\n",
    "              self.dynamic_exit_percent = 0.2\n",
    "              self.multiplier_short = 2\n",
    "    else:\n",
    "              self.stop_loss_percent_short = 0.2\n",
    "              self.dynamic_exit_percent = 1\n",
    "              self.multiplier_short = 1\n",
    "  def squareoff(self):\n",
    "    self.signals_final.append(self.current*-1)\n",
    "    self.capital=self.capital+self.number_of_stock*self.data[\"close\"][self.i]*self.current\n",
    "    self.current=0\n",
    "    self.number_of_stock=0\n",
    "    self.exit = self.i\n",
    "\n",
    "  def stop_loss_checker(self):\n",
    "    if( self.data[\"close\"][self.i]<= self.stop_loss or self.data[\"close\"][self.i] <= self.atr_stop_loss or self.jump>= self.jump_percent):\n",
    "      return 1\n",
    "    else: return 0\n",
    "\n",
    "  def dynamic_exit_checker(self):\n",
    "    if (self.portfolio_value[-1] >= self.dynamic_exit or\n",
    "        self.portfolio_value[-1] >= self.atr_dynamic_exit or\n",
    "        self.jump >= 4 or self.fall >= 1 or self.data.close[self.i] >= self.stop_loss):\n",
    "        return 1\n",
    "    else:\n",
    "        return 0\n",
    "\n",
    "\n",
    "  def risk_normal(self, strategy):\n",
    "    if(strategy == 'bollinger'):\n",
    "      self.signals = self.data['signals_bs']\n",
    "    elif(strategy == 'ichimoku'):\n",
    "      self.signals = self.data['signals_ich']\n",
    "    \n",
    "    for self.i in range(self.data.shape[0]-1):\n",
    "          \n",
    "          if(strategy == 'bollinger' or strategy == 'ichimoku'):\n",
    "            self.volatility_check()\n",
    "          self.portfolio()\n",
    "\n",
    "          if (self.current==1):\n",
    "            if (self.signals[self.i]==1 or self.signals[self.i]==0):\n",
    "              self.jump=(self.data[\"close\"][self.i]-self.data[\"close\"][self.i-1])*100/self.data[\"close\"][self.i-1]\n",
    "              if (self.stop_loss_checker()):\n",
    "                self.squareoff()\n",
    "              elif (self.portfolio_value[-1]>self.current_maxima):\n",
    "                self.signals_final.append(0)\n",
    "                self.current_maxima=self.portfolio_value[-1]\n",
    "                self.atr_stop_loss=self.data[\"close\"][self.i]-self.data[\"ATR\"][self.i]*self.multiplier_long\n",
    "                self.stop_loss=(1-self.stop_loss_percent)*self.data[\"close\"][self.i]\n",
    "              else :\n",
    "                self.signals_final.append(0)\n",
    "\n",
    "            elif (self.signals[self.i]==-1):\n",
    "              self.squareoff()\n",
    "        \n",
    "\n",
    "\n",
    "          elif (self.current==-1):\n",
    "            if (self.signals[self.i]==-1 or self.signals[self.i]==0):\n",
    "              self.jump=(self.data[\"close\"][self.i - 1]-self.data[\"close\"][self.i])*100/self.data[\"close\"][self.i-1]\n",
    "              self.fall=(self.invested_capital-self.portfolio_value[-1])*100/self.invested_capital\n",
    "              if (self.dynamic_exit_checker()):\n",
    "                self.squareoff()\n",
    "              elif(self.portfolio_value[-1]<self.current_minima):\n",
    "                 self.multiplier=(self.current_minima-self.portfolio_value[-1])/self.current_minima\n",
    "                 self.current_minima=self.portfolio_value[-1]\n",
    "                 self.dynamic_exit=(1+self.dynamic_exit_percent)*self.multiplier*self.current_minima\n",
    "                 self.atr_dynamic_exit=self.portfolio_value[-1]+self.data[\"ATR\"][self.i]*self.multiplier_short\n",
    "                 self.signals_final.append(0)\n",
    "              elif(self.portfolio_value[-1]>self.current_minima):\n",
    "                self.stop_loss=(1+self.stop_loss_percent_short)*self.data[\"close\"][self.i]\n",
    "                self.signals_final.append(0)\n",
    "              else: self.signals_final.append(0)\n",
    "            elif (self.signals[self.i]==1):\n",
    "                self.squareoff()\n",
    "          else:\n",
    "            if(self.signals[self.i]==1):\n",
    "              self.entry = self.i\n",
    "              self.current=1\n",
    "              self.number_of_stock=self.capital/self.data[\"close\"][self.i]\n",
    "              self.invested_capital=self.capital\n",
    "              self.stop_loss=(1-self.stop_loss_percent)*self.data['close'][self.i]\n",
    "              self.atr_stop_loss = self.data.close[self.i] - self.data.ATR[self.i]*self.multiplier_long\n",
    "              self.current_maxima=self.capital\n",
    "              self.capital=0\n",
    "              self.signals_final.append(1)\n",
    "            elif(self.signals[self.i]==-1):\n",
    "              self.entry = self.i\n",
    "              self.current=-1\n",
    "              self.number_of_stock=self.capital/self.data[\"close\"][self.i]\n",
    "              self.invested_capital=self.capital\n",
    "              self.stop_loss=(1+self.stop_loss_percent_short)*self.data['close'][self.i]  #-----------------------------------------\n",
    "              self.dynamic_exit=(1+self.dynamic_exit_percent)*self.capital\n",
    "\n",
    "              self.atr_dynamic_exit = self.capital + self.data.ATR[self.i]*self.multiplier_short\n",
    "              self.current_minima=self.capital\n",
    "              self.capital=self.capital+self.number_of_stock*self.data.close[self.i]\n",
    "              self.signals_final.append(-1)\n",
    "            else:\n",
    "              self.signals_final.append(0)\n",
    "    self.portfolio()\n",
    "    if (self.current!=0):\n",
    "      self.squareoff()\n",
    "    else:\n",
    "      self.signals_final.append(0)\n",
    "    if(strategy == 'bollinger'):\n",
    "      self.data[\"portfolio_value_bs\"]=self.portfolio_value\n",
    "      self.data[\"final_signals_bs\"]=self.signals_final\n",
    "    elif(strategy == 'ichimoku'):\n",
    "      self.data[\"portfolio_value_ich\"]=self.portfolio_value\n",
    "      self.data[\"final_signals_ich\"]=self.signals_final\n",
    "    \n",
    "\n",
    "\n",
    "\n",
    "\n"
   ]
  },
  {
   "cell_type": "code",
   "execution_count": 38,
   "metadata": {},
   "outputs": [],
   "source": [
    "strat1= RiskMangement(data, data['signals_bs'])\n",
    "strat1.risk_normal('bollinger')\n",
    "strat2= RiskMangement(data, data['signals_ich'])\n",
    "strat2.risk_normal('ichimoku')\n"
   ]
  },
  {
   "cell_type": "markdown",
   "metadata": {},
   "source": [
    "# Risk Management Advance \n",
    "* using alternative mechanism switching between two startegies"
   ]
  },
  {
   "cell_type": "code",
   "execution_count": 39,
   "metadata": {},
   "outputs": [],
   "source": [
    "class RiskMangementAdvance():\n",
    "    def __init__(self,data, signal_bs, signal_ich,portfolio_bs,portfolio_ich,stop_loss_percent=0.023,stop_loss_percent_short = 0.02,dynamic_exit_percent=0.2,multi_long = 4, multi_short = 1.2, jump_percent = 5, fall_percent = 1):\n",
    "        self.data=data.copy()\n",
    "        self.current=0\n",
    "        self.signal_bs=signal_bs\n",
    "        self.signal_ich=signal_ich\n",
    "        self.signals=self.signal_bs\n",
    "        self.signals_final=[]\n",
    "        self.stop_loss_percent=stop_loss_percent\n",
    "        self.stop_loss_prcent_short=stop_loss_percent_short\n",
    "        self.dynamic_exit_percent=dynamic_exit_percent\n",
    "        self.multiplier_short=multi_short\n",
    "        self.multiplier_long= multi_long\n",
    "        self.jump_percent=jump_percent\n",
    "        self.jump=0\n",
    "        self.intial_balance = 1000\n",
    "        self.capital = self.intial_balance\n",
    "        self.number_of_stock=0\n",
    "        self.portfolio_value=[]\n",
    "        self.portfolio_value_bs=portfolio_bs\n",
    "        self.portfolio_value_ich=portfolio_ich\n",
    "        self.stop_loss=0\n",
    "        self.atr_stop_loss=0\n",
    "        self.atr_dynamic_exit=0\n",
    "        self.current_maxima=0\n",
    "        self.current_minima=0\n",
    "        self.dynamic_exit=0\n",
    "        self.multiplier=1\n",
    "        self.i=0\n",
    "        self.fall=0\n",
    "        self.invested_capital=self.capital\n",
    "        self.strat=1\n",
    "    def portfolio(self):\n",
    "        capital=self.capital+self.number_of_stock*self.data[\"close\"][self.i]*self.current\n",
    "        self.portfolio_value.append(capital)\n",
    "    def volatility_check(self):\n",
    "        if(self.data.HA_CLOSE[self.i] < self.data.super[self.i]):\n",
    "              self.stop_loss_percent = 0.023\n",
    "              self.stop_loss_percent_short = 0.2\n",
    "              self.dynamic_exit_percent = 0.3\n",
    "              self.multiplier_short = 2\n",
    "        else:\n",
    "              self.stop_loss_percent = 0.023\n",
    "              self.stop_loss_percent_short = 0.2\n",
    "              self.dynamic_exit_percent = 0.2\n",
    "              self.multiplier_short = 1.2\n",
    "    def squareoff(self):\n",
    "        self.signals_final.append(self.current*-1)\n",
    "        self.capital=self.capital+self.number_of_stock*self.data[\"close\"][self.i]*self.current\n",
    "        self.current=0\n",
    "        self.exit=self.i\n",
    "        self.number_of_stock=0\n",
    "        self.switch()   \n",
    "    def switch(self):\n",
    "        \n",
    "        portfolio_bs_return=(self.portfolio_value_bs[self.exit]-self.portfolio_value_bs[self.entry])*100/self.portfolio_value_bs[self.entry]\n",
    "        portfolio_ich_return=(self.portfolio_value_ich[self.exit]-self.portfolio_value_ich[self.entry])*100/self.portfolio_value_ich[self.entry]\n",
    "        portfolio_return=(self.capital-self.invested_capital)*100/self.invested_capital\n",
    "        if self.strat==1:\n",
    "            if portfolio_ich_return>portfolio_return:\n",
    "                self.signals=self.signal_ich\n",
    "                self.strat=2\n",
    "                \n",
    "        elif self.strat==2:\n",
    "            if portfolio_bs_return>portfolio_return:\n",
    "                self.signals=self.signal_bs\n",
    "                self.strat=1\n",
    "                \n",
    "    def stop_loss_checker(self):\n",
    "        if( self.data[\"close\"][self.i]<= self.stop_loss or self.data[\"close\"][self.i] <= self.atr_stop_loss or self.jump>= self.jump_percent):\n",
    "            return 1\n",
    "        else: return 0\n",
    "    def dynamic_exit_checker(self):\n",
    "        if (self.portfolio_value[-1] >= self.dynamic_exit or\n",
    "            self.portfolio_value[-1] >= self.atr_dynamic_exit or\n",
    "            self.jump >= 4 or self.fall >= 1 or self.data.close[self.i] >= self.stop_loss):\n",
    "            return 1\n",
    "        else:\n",
    "            return 0\n",
    "    def risk_normal(self):\n",
    "\n",
    "        for self.i in range(self.data.shape[0]-1):\n",
    "            self.volatility_check()\n",
    "            self.portfolio()\n",
    "            if (self.current==1):\n",
    "                if (self.signals[self.i]==1 or self.signals[self.i]==0):\n",
    "                    self.jump=(self.data[\"close\"][self.i]-self.data[\"close\"][self.i-1])*100/self.data[\"close\"][self.i-1]\n",
    "                    if (self.stop_loss_checker()):\n",
    "                        self.squareoff()\n",
    "                    elif (self.portfolio_value[-1]>self.current_maxima):\n",
    "                        self.signals_final.append(0)\n",
    "                        self.current_maxima=self.portfolio_value[-1]\n",
    "                        self.atr_stop_loss=self.data[\"close\"][self.i]-self.data[\"ATR\"][self.i]*self.multiplier_long\n",
    "                        self.stop_loss=(1-self.stop_loss_percent)*self.data[\"close\"][self.i]\n",
    "                    else :\n",
    "                        self.signals_final.append(0)\n",
    "                elif (self.signals[self.i]==-1):\n",
    "                    self.squareoff()\n",
    "            elif (self.current==-1):\n",
    "                if (self.signals[self.i]==-1 or self.signals[self.i]==0):\n",
    "                    self.jump=(self.data[\"close\"][self.i - 1]-self.data[\"close\"][self.i])*100/self.data[\"close\"][self.i-1]\n",
    "                    self.fall=(self.invested_capital-self.portfolio_value[-1])*100/self.invested_capital\n",
    "                    if (self.dynamic_exit_checker()):\n",
    "                        self.squareoff()\n",
    "                    elif(self.portfolio_value[-1]<self.current_minima):\n",
    "                        self.multiplier=(self.current_minima-self.portfolio_value[-1])/self.current_minima\n",
    "                        self.current_minima=self.portfolio_value[-1]\n",
    "                        self.dynamic_exit=(1+self.dynamic_exit_percent)*self.multiplier*self.current_minima\n",
    "                        self.atr_dynamic_exit=self.portfolio_value[-1]+self.data[\"ATR\"][self.i]*self.multiplier_short\n",
    "                        self.signals_final.append(0)\n",
    "                    elif(self.portfolio_value[-1]>self.current_minima):\n",
    "                        self.stop_loss=(1+self.stop_loss_percent_short)*self.data[\"close\"][self.i]\n",
    "                        self.signals_final.append(0)\n",
    "                    else: self.signals_final.append(0)\n",
    "                elif (self.signals[self.i]==1):\n",
    "                    self.squareoff()\n",
    "            else:\n",
    "                if(self.signals[self.i]==1):\n",
    "                    self.entry = self.i\n",
    "                    self.current=1\n",
    "                    self.number_of_stock=self.capital/self.data[\"close\"][self.i]\n",
    "                    self.capital=0\n",
    "                    self.invested_capital=self.capital\n",
    "                    self.stop_loss=(1-self.stop_loss_percent)*self.data['close'][self.i]\n",
    "                    self.atr_stop_loss = self.data.close[self.i] - self.data.ATR[self.i]*self.multiplier_long\n",
    "                    self.current_maxima=self.capital\n",
    "                    self.signals_final.append(1)\n",
    "                elif(self.signals[self.i]==-1):\n",
    "                    \n",
    "                    self.entry = self.i\n",
    "                    self.current=-1\n",
    "                    self.number_of_stock=self.capital/self.data[\"close\"][self.i]\n",
    "                    self.invested_capital=self.capital\n",
    "                    self.stop_loss=(1+self.stop_loss_percent_short)*self.data['close'][self.i]  #--------\n",
    "                    self.dynamic_exit=(1+self.dynamic_exit_percent)*self.capital\n",
    "                    self.atr_dynamic_exit = self.capital + self.data.ATR[self.i]*self.multiplier_short\n",
    "                    self.current_minima=self.capital\n",
    "                    self.capital=self.capital+self.number_of_stock*self.data.close[self.i]\n",
    "                    self.signals_final.append(-1)\n",
    "                else:\n",
    "                    self.signals_final.append(0)\n",
    "        self.portfolio()\n",
    "        if (self.current!=0):\n",
    "            self.squareoff()\n",
    "        else:\n",
    "            self.signals_final.append(0)\n",
    "        self.data[\"portfolio_value\"]=self.portfolio_value\n",
    "        self.data[\"final_signals\"]=self.signals_final\n",
    "    \n",
    "\n",
    "        \n",
    "\n",
    "        "
   ]
  },
  {
   "cell_type": "code",
   "execution_count": 40,
   "metadata": {},
   "outputs": [],
   "source": [
    "strategy= RiskMangementAdvance(data, strat1.data['final_signals_bs'], strat2.data['final_signals_ich'],strat1.data['portfolio_value_bs'],strat2.data['portfolio_value_ich'])\n",
    "strategy.risk_normal()\n"
   ]
  },
  {
   "cell_type": "markdown",
   "metadata": {},
   "source": [
    "# Final OUTPUT CSV with signals"
   ]
  },
  {
   "cell_type": "code",
   "execution_count": 41,
   "metadata": {},
   "outputs": [],
   "source": [
    "output=pd.DataFrame({'close':strategy.data['close'],'signals':strategy.data['final_signals'],'open':strategy.data['open'],'high':strategy.data['high'],'low':strategy.data['low'],'volume':strategy.data['volume'],'datetime':strategy.data['datetime']})"
   ]
  },
  {
   "cell_type": "code",
   "execution_count": 42,
   "metadata": {},
   "outputs": [],
   "source": [
    "output.to_csv('output.csv')"
   ]
  },
  {
   "cell_type": "code",
   "execution_count": null,
   "metadata": {},
   "outputs": [],
   "source": []
  }
 ],
 "metadata": {
  "colab": {
   "provenance": []
  },
  "kernelspec": {
   "display_name": "Python 3 (ipykernel)",
   "language": "python",
   "name": "python3"
  },
  "language_info": {
   "codemirror_mode": {
    "name": "ipython",
    "version": 3
   },
   "file_extension": ".py",
   "mimetype": "text/x-python",
   "name": "python",
   "nbconvert_exporter": "python",
   "pygments_lexer": "ipython3",
   "version": "3.11.6"
  }
 },
 "nbformat": 4,
 "nbformat_minor": 4
}
