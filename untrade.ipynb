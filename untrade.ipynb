{
 "cells": [
  {
   "cell_type": "code",
   "execution_count": 1,
   "metadata": {},
   "outputs": [],
   "source": [
    "from untrade.client import Client\n",
    "client = Client()"
   ]
  },
  {
   "cell_type": "code",
   "execution_count": 9,
   "metadata": {},
   "outputs": [],
   "source": [
    "backtest=client.backtest(jupyter_id='harshvardhan_gaur',file_path=r\"C:\\Users\\harsh\\OneDrive\\Desktop\\PROJECTS\\ZELTA\\strategy\\output.csv\",leverage=1)"
   ]
  },
  {
   "cell_type": "code",
   "execution_count": 10,
   "metadata": {},
   "outputs": [
    {
     "name": "stdout",
     "output_type": "stream",
     "text": [
      "{'event': 'completed',\n",
      " 'jupyter_id': 'harshvardhan-5fgaur',\n",
      " 'time_elapsed': 1.372044337913394,\n",
      " 'data': {'static_statistics': {'From': Timestamp('2020-01-01 05:30:00'),\n",
      "                                'Total Trades': 150,\n",
      "                                'Leverage Applied': 1,\n",
      "                                'Winning Trades': 65,\n",
      "                                'Losing Trades': 85,\n",
      "                                'No. of Long Trades': 86,\n",
      "                                'No. of Short Trades': 64,\n",
      "                                'Benchmark Return(%)': 491.82,\n",
      "                                'Benchmark Return(on $1000)': 4918.23,\n",
      "                                'Win Rate': 43.33,\n",
      "                                'Winning Streak': 5,\n",
      "                                'Losing Streak': 9,\n",
      "                                'Gross Profit': 2048.89,\n",
      "                                'Net Profit': 1823.89,\n",
      "                                'Average Profit': 12.16,\n",
      "                                'Maximum Drawdown(%)': 4.86,\n",
      "                                'Average Drawdown(%)': 1.3,\n",
      "                                'Largest Win': 227.39,\n",
      "                                'Average Win': 43.99,\n",
      "                                'Largest Loss': -42.5,\n",
      "                                'Average Loss': -12.18,\n",
      "                                'Maximum Holding Time': '7 days 06:00:00',\n",
      "                                'Average Holding Time': '1 days 03:47:36',\n",
      "                                'Maximum Adverse Excursion': 10.01,\n",
      "                                'Average Adverse Excursion': 1.97,\n",
      "                                'Sharpe Ratio': 5.74,\n",
      "                                'Sortino Ratio': 24.31,\n",
      "                                'To': Timestamp('2024-01-01 05:30:00')},\n",
      "          'compound_statistics': {'flag': 'Trades Executed: 150',\n",
      "                                  'Initial Balance': 1000,\n",
      "                                  'Leverage Applied': 1,\n",
      "                                  'Number of Trades': 150,\n",
      "                                  'Profit Percentage': 432.48,\n",
      "                                  'Maximum Drawdown': 9.62,\n",
      "                                  'Average Drawdown': 2.48,\n",
      "                                  'Time to Recovery(TTR)': '52.5 days',\n",
      "                                  'Maximum PNL': 740.1,\n",
      "                                  'Minimum PNL': -135.05,\n",
      "                                  'Max Portfolio Balance': 5324.84,\n",
      "                                  'Minimumm Portfolio Balance': 1000,\n",
      "                                  'Final Balance': 5324.84,\n",
      "                                  'Total Fee': 571.48}}}\n"
     ]
    }
   ],
   "source": [
    "for value in backtest:\n",
    "    print(value)"
   ]
  }
 ],
 "metadata": {
  "kernelspec": {
   "display_name": "Python 3",
   "language": "python",
   "name": "python3"
  },
  "language_info": {
   "codemirror_mode": {
    "name": "ipython",
    "version": 3
   },
   "file_extension": ".py",
   "mimetype": "text/x-python",
   "name": "python",
   "nbconvert_exporter": "python",
   "pygments_lexer": "ipython3",
   "version": "3.11.9"
  }
 },
 "nbformat": 4,
 "nbformat_minor": 2
}
